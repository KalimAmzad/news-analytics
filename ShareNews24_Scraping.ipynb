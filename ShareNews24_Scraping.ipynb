{
  "nbformat": 4,
  "nbformat_minor": 0,
  "metadata": {
    "colab": {
      "provenance": []
    },
    "kernelspec": {
      "name": "python3",
      "display_name": "Python 3"
    },
    "language_info": {
      "name": "python"
    }
  },
  "cells": [
    {
      "cell_type": "code",
      "source": [
        "!pip install requests_html"
      ],
      "metadata": {
        "id": "hFW6kbagBdTV",
        "colab": {
          "base_uri": "https://localhost:8080/"
        },
        "outputId": "cd8dd364-e7e8-479f-f58f-6a1a9e593f92"
      },
      "execution_count": 2,
      "outputs": [
        {
          "output_type": "stream",
          "name": "stdout",
          "text": [
            "Looking in indexes: https://pypi.org/simple, https://us-python.pkg.dev/colab-wheels/public/simple/\n",
            "Collecting requests_html\n",
            "  Downloading requests_html-0.10.0-py3-none-any.whl (13 kB)\n",
            "Collecting pyquery\n",
            "  Downloading pyquery-1.4.3-py3-none-any.whl (22 kB)\n",
            "Requirement already satisfied: bs4 in /usr/local/lib/python3.7/dist-packages (from requests_html) (0.0.1)\n",
            "Collecting fake-useragent\n",
            "  Downloading fake_useragent-1.1.0-py3-none-any.whl (50 kB)\n",
            "\u001b[K     |████████████████████████████████| 50 kB 2.6 MB/s \n",
            "\u001b[?25hCollecting w3lib\n",
            "  Downloading w3lib-2.1.0-py3-none-any.whl (21 kB)\n",
            "Requirement already satisfied: requests in /usr/local/lib/python3.7/dist-packages (from requests_html) (2.23.0)\n",
            "Collecting parse\n",
            "  Downloading parse-1.19.0.tar.gz (30 kB)\n",
            "Collecting pyppeteer>=0.0.14\n",
            "  Downloading pyppeteer-1.0.2-py3-none-any.whl (83 kB)\n",
            "\u001b[K     |████████████████████████████████| 83 kB 1.9 MB/s \n",
            "\u001b[?25hCollecting websockets<11.0,>=10.0\n",
            "  Downloading websockets-10.4-cp37-cp37m-manylinux_2_5_x86_64.manylinux1_x86_64.manylinux_2_17_x86_64.manylinux2014_x86_64.whl (106 kB)\n",
            "\u001b[K     |████████████████████████████████| 106 kB 51.3 MB/s \n",
            "\u001b[?25hRequirement already satisfied: certifi>=2021 in /usr/local/lib/python3.7/dist-packages (from pyppeteer>=0.0.14->requests_html) (2022.9.24)\n",
            "Requirement already satisfied: tqdm<5.0.0,>=4.42.1 in /usr/local/lib/python3.7/dist-packages (from pyppeteer>=0.0.14->requests_html) (4.64.1)\n",
            "Requirement already satisfied: importlib-metadata>=1.4 in /usr/local/lib/python3.7/dist-packages (from pyppeteer>=0.0.14->requests_html) (4.13.0)\n",
            "Requirement already satisfied: appdirs<2.0.0,>=1.4.3 in /usr/local/lib/python3.7/dist-packages (from pyppeteer>=0.0.14->requests_html) (1.4.4)\n",
            "Collecting urllib3<2.0.0,>=1.25.8\n",
            "  Downloading urllib3-1.26.13-py2.py3-none-any.whl (140 kB)\n",
            "\u001b[K     |████████████████████████████████| 140 kB 62.7 MB/s \n",
            "\u001b[?25hCollecting pyee<9.0.0,>=8.1.0\n",
            "  Downloading pyee-8.2.2-py2.py3-none-any.whl (12 kB)\n",
            "Requirement already satisfied: zipp>=0.5 in /usr/local/lib/python3.7/dist-packages (from importlib-metadata>=1.4->pyppeteer>=0.0.14->requests_html) (3.10.0)\n",
            "Requirement already satisfied: typing-extensions>=3.6.4 in /usr/local/lib/python3.7/dist-packages (from importlib-metadata>=1.4->pyppeteer>=0.0.14->requests_html) (4.1.1)\n",
            "Requirement already satisfied: beautifulsoup4 in /usr/local/lib/python3.7/dist-packages (from bs4->requests_html) (4.6.3)\n",
            "Requirement already satisfied: importlib-resources>=5.0 in /usr/local/lib/python3.7/dist-packages (from fake-useragent->requests_html) (5.10.0)\n",
            "Requirement already satisfied: lxml>=2.1 in /usr/local/lib/python3.7/dist-packages (from pyquery->requests_html) (4.9.1)\n",
            "Collecting cssselect>0.7.9\n",
            "  Downloading cssselect-1.2.0-py2.py3-none-any.whl (18 kB)\n",
            "Requirement already satisfied: idna<3,>=2.5 in /usr/local/lib/python3.7/dist-packages (from requests->requests_html) (2.10)\n",
            "Collecting urllib3<2.0.0,>=1.25.8\n",
            "  Downloading urllib3-1.25.11-py2.py3-none-any.whl (127 kB)\n",
            "\u001b[K     |████████████████████████████████| 127 kB 58.6 MB/s \n",
            "\u001b[?25hRequirement already satisfied: chardet<4,>=3.0.2 in /usr/local/lib/python3.7/dist-packages (from requests->requests_html) (3.0.4)\n",
            "Building wheels for collected packages: parse\n",
            "  Building wheel for parse (setup.py) ... \u001b[?25l\u001b[?25hdone\n",
            "  Created wheel for parse: filename=parse-1.19.0-py3-none-any.whl size=24591 sha256=a9db8763e71107e76dd52621fb372529c71155fb451d3a2b48e17471211394e1\n",
            "  Stored in directory: /root/.cache/pip/wheels/9c/aa/cc/f2228050ccb40f22144b073f15a2c84f11204f29fc0dce028e\n",
            "Successfully built parse\n",
            "Installing collected packages: websockets, urllib3, pyee, cssselect, w3lib, pyquery, pyppeteer, parse, fake-useragent, requests-html\n",
            "  Attempting uninstall: urllib3\n",
            "    Found existing installation: urllib3 1.24.3\n",
            "    Uninstalling urllib3-1.24.3:\n",
            "      Successfully uninstalled urllib3-1.24.3\n",
            "Successfully installed cssselect-1.2.0 fake-useragent-1.1.0 parse-1.19.0 pyee-8.2.2 pyppeteer-1.0.2 pyquery-1.4.3 requests-html-0.10.0 urllib3-1.25.11 w3lib-2.1.0 websockets-10.4\n"
          ]
        }
      ]
    },
    {
      "cell_type": "code",
      "execution_count": 3,
      "metadata": {
        "id": "QZsAeH7iBRka"
      },
      "outputs": [],
      "source": [
        "from requests_html import HTMLSession\n",
        "import pandas as pd\n",
        "import time\n",
        "\n",
        "from IPython.display import clear_output"
      ]
    },
    {
      "cell_type": "code",
      "source": [
        "# Create a session object\n",
        "session = HTMLSession()"
      ],
      "metadata": {
        "id": "E2rcJVNmBfvl"
      },
      "execution_count": 4,
      "outputs": []
    },
    {
      "cell_type": "code",
      "source": [
        "def single_news_scraping(url):\n",
        "  r = session.get(url)\n",
        "  title = r.html.find('span.headlinebg')[0].text.split('\\n')[0]\n",
        "  news = r.html.find('div.news-content')\n",
        "  description = news[0].text.split('এ বিভাগের অন্যান্য সংবাদ')[0].split('\\n')[0:-2]\n",
        "  description = ' '.join([n for n in description])\n",
        "  description = description.replace('নিজস্ব প্রতিবেদক : ', '')\\\n",
        "                            .replace('নিজস্ব প্রতিবেদক: ', '').strip()\n",
        "  date = news[0].text.split('এ বিভাগের অন্যান্য সংবাদ')[0].split('\\n')[-2]\\\n",
        "                      .replace('শেয়ারনিউজ, ', '')\\\n",
        "                      .replace('শেয়ারনিউজ,', '')\\\n",
        "                      .replace('শেয়ার নিউজ, ', '')\n",
        "\n",
        "  return title, description, date"
      ],
      "metadata": {
        "id": "fyx0NhPlbR6K"
      },
      "execution_count": 34,
      "outputs": []
    },
    {
      "cell_type": "code",
      "source": [
        "single_news_scraping('https://www.sharenews24.com/article/36697/index.html')"
      ],
      "metadata": {
        "id": "kNQ2nTNZuhf1"
      },
      "execution_count": null,
      "outputs": []
    },
    {
      "cell_type": "code",
      "source": [
        "start = time.time()\n",
        "cnt, page = 1, 950 # 500 page scrapping done. \n",
        "\n",
        "titles = []\n",
        "links = []\n",
        "dates = []\n",
        "descriptions = []\n",
        "urls = []\n",
        "\n",
        "for i in range(500, page):\n",
        "  r = session.get('https://www.sharenews24.com/index.php?page=allnews&catid=3&start='+str(i))\n",
        "  news_url = [u.attrs['href'] for u in r.html.find('span.headlinebg>a')]\n",
        "  for u in news_url: \n",
        "    title, description, date = single_news_scraping(u)\n",
        "    titles.append(title)\n",
        "    urls.append(u)\n",
        "    descriptions.append(description)\n",
        "    dates.append(date)\n",
        "    print(f\"Page: {i}, News No: {cnt}\")\n",
        "    print(title)\n",
        "    print(description)\n",
        "    print(date)\n",
        "    print(\"----------------------------------------------\")\n",
        "    cnt += 1\n",
        "    clear_output(wait=True)\n",
        "\n",
        "print(f\"Time Required: {time.time()-start}\")"
      ],
      "metadata": {
        "colab": {
          "base_uri": "https://localhost:8080/"
        },
        "id": "W7Rsf7JlcGKK",
        "outputId": "6cbebd0b-29bb-464d-e87c-68426b3e995c"
      },
      "execution_count": null,
      "outputs": [
        {
          "output_type": "stream",
          "name": "stdout",
          "text": [
            "Page: 751, News No: 5022\n",
            "ডিবিএর নতুন ভাইস প্রেসিডেন্ট হলেন সাজিদুল ইসলাম\n",
            "পুঁজিবাজারের শীর্ষ সংগঠন ডিএসই ব্রোকার্স এসোসিয়েশন অব বাংলাদেশের (ডিবিএ) নতুন ভাইস প্রেসিডেন্ট নির্বাচিত হয়েছেন শ্যামল ইক্যুইটি ম্যানেজমেন্ট লিমিটেডের ব্যবস্থাপনা পরিচালক মো. সাজিদুল ইসলাম। এর আগে তিনি সংগঠনটির পরিচালক পদে দায়িত্ব পালন করছিলেন।  এসোসিয়েশন থেকে পাঠানো এক প্রেস বিজ্ঞপ্তিতে জানানো হয়, গত মঙ্গলবার (২৭ অক্টোবর) ভার্চুয়াল মাধ্যমে অনুষ্ঠিত এসোসিয়েশনের ৭৩তম পর্ষদ সভায় উপস্থিত সদস্যদের সর্বসম্মতিক্রমে তাকে চলতি মেয়াদের জন্যে ভাইস প্রেসিডেন্ট নির্বাচিত করা হয়।  উল্লেখ্য যে, ইতিপূর্বে ঢাকা ব্যাংক সিকিউরিটিজ মোহাম্মদ আলী, এফসিএকে তার দায়িত্ব থেকে প্রত্যাহার করে নিলে এসোসিয়েশনে তার পরিচালক ও ভাইস প্রেসিডেন্ট পটি শূণ্য হয়।\n",
            "শেয়ারনিউজ; ২৮ অক্টোবর ২০২০\n",
            "----------------------------------------------\n"
          ]
        }
      ]
    },
    {
      "cell_type": "code",
      "source": [
        "print(news_url[17])"
      ],
      "metadata": {
        "colab": {
          "base_uri": "https://localhost:8080/"
        },
        "id": "BVBGdFp7AFXW",
        "outputId": "01489e09-d313-4812-f5c6-9b2559e68379"
      },
      "execution_count": 11,
      "outputs": [
        {
          "output_type": "stream",
          "name": "stdout",
          "text": [
            "https://www.sharenews24.com/article/36698/index.html\n"
          ]
        }
      ]
    },
    {
      "cell_type": "code",
      "source": [],
      "metadata": {
        "id": "1i4Y_Ag-AFZh"
      },
      "execution_count": null,
      "outputs": []
    },
    {
      "cell_type": "code",
      "source": [],
      "metadata": {
        "id": "MCBooNS5AFb5"
      },
      "execution_count": null,
      "outputs": []
    },
    {
      "cell_type": "code",
      "source": [
        "len(titles), i, cnt"
      ],
      "metadata": {
        "colab": {
          "base_uri": "https://localhost:8080/"
        },
        "id": "L6EgsXD2yBGu",
        "outputId": "19f066f0-344f-4943-be8b-b521d7e21957"
      },
      "execution_count": null,
      "outputs": [
        {
          "output_type": "execute_result",
          "data": {
            "text/plain": [
              "(11, 500, 12)"
            ]
          },
          "metadata": {},
          "execution_count": 85
        }
      ]
    },
    {
      "cell_type": "code",
      "source": [],
      "metadata": {
        "id": "OudzELBocGOZ"
      },
      "execution_count": null,
      "outputs": []
    },
    {
      "cell_type": "code",
      "source": [
        "\n",
        "# Create a dataframe and export to csv\n",
        "df = pd.DataFrame({'Title': titles, 'Link': urls, 'Description': descriptions, 'Date': dates, })\n",
        "df.to_csv('news.csv', index=False)"
      ],
      "metadata": {
        "id": "X3VlVx46Bqts"
      },
      "execution_count": null,
      "outputs": []
    },
    {
      "cell_type": "code",
      "source": [
        "from google.colab import data_table\n",
        "data_table.DataTable(df, include_index=True, num_rows_per_page=10)"
      ],
      "metadata": {
        "id": "YRlNUN9ufaWp"
      },
      "execution_count": null,
      "outputs": []
    },
    {
      "cell_type": "code",
      "source": [],
      "metadata": {
        "id": "NALewX9LgpF5"
      },
      "execution_count": null,
      "outputs": []
    }
  ]
}